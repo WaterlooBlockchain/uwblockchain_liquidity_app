{
 "cells": [
  {
   "cell_type": "code",
   "execution_count": 1,
   "id": "c10ad889",
   "metadata": {},
   "outputs": [
    {
     "name": "stdout",
     "output_type": "stream",
     "text": [
      "user address: 0x2E771628e765C04a06252801177332D078A19A21\n",
      "asset data: {'deposits': {'WETH': 9.010646681911357, 'UNI': 256.51552761272205, 'LINK': 37549.23451833557}, 'borrowed': {'USDC': 176185.526365}}\n",
      "--------------------------------------------------------\n",
      "user address: 0xdE606eedf9049a5EfECb5dFde5117c0239Afa532\n",
      "asset data: {'deposits': {'WBTC': 2.61719098, 'WETH': 43.03260172945692, 'MKR': 8.8048129515511}, 'borrowed': {'USDC': 118632.095042}}\n",
      "--------------------------------------------------------\n",
      "user address: 0x7B77B7C809d764d1a729f000D737A7237ceE0c3D\n",
      "asset data: {'deposits': {'WETH': 13.101673331280999}, 'borrowed': {'DAI': 18169.790157953936}}\n",
      "--------------------------------------------------------\n",
      "user address: 0x7eF216afdF22D1B336169a0C4bB7b5a531d1E528\n",
      "asset data: {'deposits': {'WETH': 1741.8514781521108}, 'borrowed': {'USDC': 1668473.782476}}\n",
      "--------------------------------------------------------\n",
      "user address: 0x5c072afDC73BCb793d8FB9945fa6328591F7Bf5b\n",
      "asset data: {'deposits': {'USDT': 300088.504281}, 'borrowed': {}}\n",
      "--------------------------------------------------------\n",
      "user address: 0xAbFda4BAc2094cdb4181cEc57589Ab48df094145\n",
      "asset data: {'deposits': {'WBTC': 2.7331773}, 'borrowed': {'WETH': 27.256215100267323}}\n",
      "--------------------------------------------------------\n",
      "user address: 0xB29730E5DbeEB428B7b723a8a51d722a08872d9a\n",
      "asset data: {'deposits': {'WETH': 13.518768166668103, 'stETH': 245.49288669438212, 'LUSD': 3621.2828619586544}, 'borrowed': {'TUSD': 33324.28216127257, 'USDC': 180348.359386}}\n",
      "--------------------------------------------------------\n",
      "user address: 0x6b73A81d3724267BEaB9393eb89868ADE5CA6A29\n",
      "asset data: {'deposits': {}, 'borrowed': {}}\n",
      "--------------------------------------------------------\n",
      "user address: 0xf9135BAC6634583d75B16a0Fdfd60cfC710977B3\n",
      "asset data: {'deposits': {'WETH': 10.056943848553226, 'LINK': 368.6518964868824, 'LUSD': 7344.151127315155}, 'borrowed': {}}\n",
      "--------------------------------------------------------\n",
      "user address: 0xbCc5A64F2E1E40873792419e588BdB9d9DbD53b6\n",
      "asset data: {'deposits': {'USDT': 5207.758822}, 'borrowed': {}}\n",
      "--------------------------------------------------------\n"
     ]
    }
   ],
   "source": [
    "# Listening to Live Data from Aave\n",
    "\n",
    "# With the liquidity application we can currently perform the following functionality:\n",
    "\n",
    "# 1. Gathering a list of active Aave users via listening to Borrow & Deposit Events.\n",
    "\n",
    "# 2. Decode the configuration of a user to record which assets they hold.\n",
    "\n",
    "# 3. Query Aave to find stable and variable debt as well as deposits for a user.\n",
    "\n",
    "# The code below performs these three steps on the 10 recent Aave users.\n",
    "\n",
    "from core.AaveLpService import AaveLpService\n",
    "from utils.ContractService import ContractService\n",
    "import os, pickle\n",
    "\n",
    "def run():\n",
    "    aave = AaveLpService()\n",
    "\n",
    "    reserveContractService = ContractService(\n",
    "        apiKey=\"CRSZ3RKR7QQY9IDYM6JEWXCQQBBRC8DGN6\", \n",
    "        nodeAddress=\"https://mainnet.infura.io/v3/627dba05199b4a3780b76ef7a35b0d4d\",\n",
    "        contractAddress=\"0x057835Ad21a177dbdd3090bB1CAE03EaCF78Fc6d\"\n",
    "    )\n",
    "    contract = reserveContractService.connect()\n",
    "\n",
    "    aave.updateUserList()\n",
    "\n",
    "    with open('core/userData.p', 'rb') as input:\n",
    "        userData = pickle.load(input)\n",
    "    \n",
    "    numRecords = 0\n",
    "    for user in userData['users']:\n",
    "        userPositions = aave.getUserPositions(user)\n",
    "        print(f'user address: {user}')\n",
    "        print(f'asset data: {userPositions}')\n",
    "        print(f'--------------------------------------------------------')\n",
    "        numRecords += 1\n",
    "        if (numRecords == 10): break\n",
    "        \n",
    "run()"
   ]
  },
  {
   "cell_type": "code",
   "execution_count": 1,
   "id": "b9df4986",
   "metadata": {},
   "outputs": [
    {
     "data": {
      "image/png": "[encoded data removed]",
      "text/plain": [
       "<Figure size 2000x300 with 1 Axes>"
      ]
     },
     "metadata": {},
     "output_type": "display_data"
    }
   ],
   "source": [
    "# Displaying aggregating long-short ratios on a bar chart\n",
    "# This data is from the past week of transactions on Aave,\n",
    "# and thus has quite a bit of skew.\n",
    "\n",
    "from matplotlib import pyplot as plt\n",
    "from core.AaveLpService import AaveLpService\n",
    "import math\n",
    "\n",
    "aave = AaveLpService()\n",
    "longShortRatios = aave.getFilteredLongShortRatios()\n",
    "\n",
    "# x-axis values\n",
    "x = [asset for asset in longShortRatios if not isinstance(longShortRatios[asset], str)]\n",
    " \n",
    "# Y-axis values\n",
    "y = [longShortRatios[asset] for asset in longShortRatios if not isinstance(longShortRatios[asset], str)]\n",
    " \n",
    "# Function to plot\n",
    "plt.figure(figsize=(20, 3))  # width:20, height:3\n",
    "plt.bar(x, y)\n",
    " \n",
    "# function to show the plot\n",
    "plt.show()"
   ]
  },
  {
   "cell_type": "code",
   "execution_count": 7,
   "id": "865d3a62",
   "metadata": {},
   "outputs": [
    {
     "ename": "NameError",
     "evalue": "name 'colors' is not defined",
     "output_type": "error",
     "traceback": [
      "\u001b[0;31m---------------------------------------------------------------------------\u001b[0m",
      "\u001b[0;31mNameError\u001b[0m                                 Traceback (most recent call last)",
      "Cell \u001b[0;32mIn[7], line 16\u001b[0m\n\u001b[1;32m     12\u001b[0m labels \u001b[38;5;241m=\u001b[39m [asset \u001b[38;5;28;01mfor\u001b[39;00m asset \u001b[38;5;129;01min\u001b[39;00m assetDistribution]\n\u001b[1;32m     14\u001b[0m sizes \u001b[38;5;241m=\u001b[39m [\u001b[38;5;28mint\u001b[39m(assetDistribution[asset]) \u001b[38;5;28;01mfor\u001b[39;00m asset \u001b[38;5;129;01min\u001b[39;00m assetDistribution]\n\u001b[0;32m---> 16\u001b[0m patches, texts \u001b[38;5;241m=\u001b[39m plt\u001b[38;5;241m.\u001b[39mpie(sizes, colors\u001b[38;5;241m=\u001b[39m\u001b[43mcolors\u001b[49m, startangle\u001b[38;5;241m=\u001b[39m\u001b[38;5;241m90\u001b[39m)\n\u001b[1;32m     17\u001b[0m plt\u001b[38;5;241m.\u001b[39mlegend(patches, labels, loc\u001b[38;5;241m=\u001b[39m\u001b[38;5;124m\"\u001b[39m\u001b[38;5;124mbest\u001b[39m\u001b[38;5;124m\"\u001b[39m)\n\u001b[1;32m     19\u001b[0m plt\u001b[38;5;241m.\u001b[39maxis(\u001b[38;5;124m'\u001b[39m\u001b[38;5;124mequal\u001b[39m\u001b[38;5;124m'\u001b[39m)\n",
      "\u001b[0;31mNameError\u001b[0m: name 'colors' is not defined"
     ]
    }
   ],
   "source": [
    "# Displaying asset distribution of the top 25 wallets\n",
    "# that had a transaction on Aave in the past week.\n",
    "# Note that all values are in ETH.\n",
    "\n",
    "from matplotlib import pyplot as plt\n",
    "from core.AaveLpService import AaveLpService\n",
    "import math\n",
    "\n",
    "aave = AaveLpService()\n",
    "assetDistribution = aave.getTop25WalletDistribution()\n",
    "\n",
    "labels = [asset for asset in assetDistribution]\n",
    " \n",
    "sizes = [int(assetDistribution[asset]) for asset in assetDistribution]\n",
    "\n",
    "patches, texts = plt.pie(sizes, startangle=90)\n",
    "plt.legend(patches, labels, loc=\"best\")\n",
    " \n",
    "plt.axis('equal')\n",
    "plt.tight_layout()\n",
    "plt.show()"
   ]
  },
  {
   "cell_type": "code",
   "execution_count": null,
   "id": "05329245",
   "metadata": {},
   "outputs": [],
   "source": []
  }
 ],
 "metadata": {
  "kernelspec": {
   "display_name": "Python 3 (ipykernel)",
   "language": "python",
   "name": "python3"
  },
  "language_info": {
   "codemirror_mode": {
    "name": "ipython",
    "version": 3
   },
   "file_extension": ".py",
   "mimetype": "text/x-python",
   "name": "python",
   "nbconvert_exporter": "python",
   "pygments_lexer": "ipython3",
   "version": "3.10.7"
  }
 },
 "nbformat": 4,
 "nbformat_minor": 5
}
